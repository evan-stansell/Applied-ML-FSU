{
 "cells": [
  {
   "cell_type": "code",
   "execution_count": 29,
   "metadata": {},
   "outputs": [],
   "source": [
    "import numpy as np \n",
    "import pandas as pd"
   ]
  },
  {
   "cell_type": "code",
   "execution_count": 30,
   "metadata": {},
   "outputs": [],
   "source": [
    "pb1 = np.array(pd.read_csv('C:/School/Applied ML FSU/Applied-ML-FSU/Data/hmm_pb1.csv', header=None)).squeeze()"
   ]
  },
  {
   "cell_type": "code",
   "execution_count": 31,
   "metadata": {},
   "outputs": [],
   "source": [
    "st = np.array([0,1])\n",
    "init = np.array([0.5,0.5])\n",
    "\n",
    "tr = np.array([[0.95, 0.5],\n",
    "                       [0.5, 0.95]])\n",
    "\n",
    "em = np.array([[1/6, 1/6, 1/6, 1/6, 1/6, 1/6], \n",
    "                     [1/10, 1/10, 1/10, 1/10, 1/10, 1/2]])"
   ]
  },
  {
   "cell_type": "code",
   "execution_count": 32,
   "metadata": {},
   "outputs": [
    {
     "name": "stdout",
     "output_type": "stream",
     "text": [
      "[1 1 1 1 1 1 1 1 1 1 1 1 1 1 1 1 1 1 1 1 1 1 1 1 1 1 1 1 1 1 1 1 1 1 1 1 1\n",
      " 1 1 1 1 1 1 1 1 1 1 1 1 1 1 1 2 2 2 2 2 2 2 2 2 2 2 2 2 2 2 2 2 2 2 2 2 2\n",
      " 2 2 2 2 2 2 2 2 2 2 2 2 2 2 2 2 2 2 2 2 2 2 2 2 2 2 2 2 2 2 2 2 2 2 2 2 2\n",
      " 2 2 2 2 2 2 2 2 2 1 1 1 1 1 1 1 1 1 1 1 1 1 1 1 1 1 1 1 1 1 1 1 1 1 2 2 2\n",
      " 2 2 2 2 2 2 2 2 2 2 2 2 2 2 2 2 2 2 2 2 2 2 2 2 2 2 2 2 2 2 2 2 2 2 2 2 2\n",
      " 2 2 2 2 2 2 2 2 2 2 2 2 2 2 2 2 2 2 2 2 2 2 2 2 2 2 2 2 2 2 2 2 2 2 2 2 2\n",
      " 2 2 2 2 2 2 2 2 2 2 2 2 2 2 2 2 2 2 2 2 2 2 2 2 2 2 2 2 2 2 2 2 2 2 2 2 2\n",
      " 2 2 2 2 2 2 2 2 2 2 2 2 2 2 2 2 2 2 2 2 2 1 1 1 1 1 1 1 1 1 1 1 1 1 1 1 1\n",
      " 1 1 1 1]\n"
     ]
    }
   ],
   "source": [
    "c = np.zeros((2, pb1.shape[0]))\n",
    "ptr = np.zeros((2, pb1.shape[0]))\n",
    "y = np.ones_like(pb1)\n",
    "\n",
    "c[:,0] = em[:, (int(pb1[0])-1)]*init\n",
    "\n",
    "for t in range(1, pb1.shape[0]):\n",
    "    trc = tr + c[:, t-1].reshape(-1,1)\n",
    "    c[:, t] =em[:, pb1[t]-1] + np.max(trc, axis = 0)\n",
    "    ptr[:, t] = np.argmax(trc, axis = 0)\n",
    "\n",
    "y[-1] = np.argmax(c[:, -1])\n",
    "\n",
    "for t in range(pb1.shape[0]-1, 0, -1):\n",
    "    y[t-1] = ptr[y[t], t]\n",
    "\n",
    "y = y+1\n",
    "\n",
    "print(y)"
   ]
  }
 ],
 "metadata": {
  "kernelspec": {
   "display_name": "cuda-env",
   "language": "python",
   "name": "python3"
  },
  "language_info": {
   "codemirror_mode": {
    "name": "ipython",
    "version": 3
   },
   "file_extension": ".py",
   "mimetype": "text/x-python",
   "name": "python",
   "nbconvert_exporter": "python",
   "pygments_lexer": "ipython3",
   "version": "3.9.13"
  }
 },
 "nbformat": 4,
 "nbformat_minor": 2
}
