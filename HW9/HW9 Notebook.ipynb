{
 "cells": [
  {
   "cell_type": "code",
   "execution_count": 71,
   "metadata": {},
   "outputs": [],
   "source": [
    "import numpy as np \n",
    "import pandas as pd"
   ]
  },
  {
   "cell_type": "code",
   "execution_count": 72,
   "metadata": {},
   "outputs": [],
   "source": [
    "pbt = np.loadtxt('D:/School/Applied ML FSU/Applied-ML-FSU/Data/hmm_pb1.csv', delimiter=',').squeeze()"
   ]
  },
  {
   "cell_type": "code",
   "execution_count": 73,
   "metadata": {},
   "outputs": [
    {
     "data": {
      "text/plain": [
       "(300,)"
      ]
     },
     "execution_count": 73,
     "metadata": {},
     "output_type": "execute_result"
    }
   ],
   "source": [
    "pbt.shape"
   ]
  },
  {
   "cell_type": "code",
   "execution_count": 74,
   "metadata": {},
   "outputs": [],
   "source": [
    "pb1 = np.array(pd.read_csv('D:/School/Applied ML FSU/Applied-ML-FSU/Data/hmm_pb1.csv', header=None)).squeeze()"
   ]
  },
  {
   "cell_type": "code",
   "execution_count": 75,
   "metadata": {},
   "outputs": [],
   "source": [
    "states = np.array([0,1])\n",
    "initial = np.array([0.5,0.5])\n",
    "\n",
    "transition = np.array([[0.95, 0.5],\n",
    "                       [0.5, 0.95]])\n",
    "\n",
    "emission = np.array([[1/6, 1/6, 1/6, 1/6, 1/6, 1/6], \n",
    "                     [1/10, 1/10, 1/10, 1/10, 1/10, 1/2]])"
   ]
  },
  {
   "cell_type": "code",
   "execution_count": 76,
   "metadata": {},
   "outputs": [
    {
     "name": "stdout",
     "output_type": "stream",
     "text": [
      "[1 1 1 1 1 1 1 1 1 1 1 1 1 1 1 1 1 1 1 1 1 1 1 1 1 1 1 1 1 1 1 1 1 1 1 1 1\n",
      " 1 1 1 1 1 1 1 1 1 1 1 1 1 1 1 1 1 1 1 1 1 1 1 1 1 1 1 1 1 1 1 1 1 1 2 2 2\n",
      " 2 2 2 2 2 2 2 2 2 2 2 2 2 2 2 2 2 2 2 2 2 2 2 2 2 2 2 2 2 2 2 2 2 2 2 2 2\n",
      " 2 2 2 2 2 2 2 2 2 1 1 1 1 1 1 1 1 1 1 1 1 1 1 1 1 1 1 1 1 1 1 1 1 1 1 1 1\n",
      " 1 1 2 2 2 2 2 2 2 2 2 2 2 2 2 2 2 2 2 2 2 2 2 2 2 2 2 2 2 2 2 2 2 2 2 2 2\n",
      " 2 2 2 2 2 2 2 2 2 2 2 2 2 2 2 2 2 2 2 2 2 2 2 2 2 1 1 1 1 1 1 1 1 1 1 1 1\n",
      " 1 1 1 1 1 1 1 1 1 1 1 1 2 2 2 2 2 2 2 2 2 2 2 2 2 2 2 2 2 2 2 2 2 2 2 2 2\n",
      " 2 2 2 2 2 2 2 2 2 2 2 2 2 2 2 2 2 2 2 2 2 1 1 1 1 1 1 1 1 1 1 1 1 1 1 1 1\n",
      " 1 1 1 1]\n"
     ]
    }
   ],
   "source": [
    "pi = np.array([0.5, 0.5])\n",
    "a = np.array(\n",
    "    [[0.95, 0.05],\n",
    "     [0.05, 0.95]]\n",
    ")\n",
    "b = np.array(\n",
    "    [[1./6, 1./6, 1./6, 1./6, 1./6, 1./6],\n",
    "    [1./10, 1./10, 1./10, 1./10, 1./10, 1./2]]\n",
    ")\n",
    "\n",
    "c = np.zeros((2, pb1.shape[0]))\n",
    "ptr = np.zeros((2, pb1.shape[0]))\n",
    "y_star = -1*np.ones_like(pb1) # Put -1 to make debugging easier\n",
    "\n",
    "c[:,0] = np.log(b[:, (int(pb1[0])-1)]*pi)\n",
    "\n",
    "\n",
    "for t in range(1, pb1.shape[0]):\n",
    "    # Reshape so that c[:,t-1] would be added to each column of log(a)\n",
    "    # by broadcasting\n",
    "    logaC = np.log(a) + c[:, t-1].reshape(-1,1)\n",
    "    c[:, t] = np.log(b[:, pb1[t]-1]) + np.max(logaC, axis = 0)\n",
    "    ptr[:, t] = np.argmax(logaC, axis = 0)\n",
    "\n",
    "# We now find y_star.\n",
    "# Initialization\n",
    "y_star[-1] = np.argmax(c[:, -1])\n",
    "\n",
    "# Start from the last index pb1.shape[0]-1\n",
    "# last -1 means we go backward\n",
    "for t in range(pb1.shape[0]-1, 0, -1):\n",
    "    y_star[t-1] = ptr[y_star[t], t]\n",
    "\n",
    "print(y_star+1)"
   ]
  },
  {
   "cell_type": "code",
   "execution_count": null,
   "metadata": {},
   "outputs": [],
   "source": []
  }
 ],
 "metadata": {
  "kernelspec": {
   "display_name": "cuda-env",
   "language": "python",
   "name": "python3"
  },
  "language_info": {
   "codemirror_mode": {
    "name": "ipython",
    "version": 3
   },
   "file_extension": ".py",
   "mimetype": "text/x-python",
   "name": "python",
   "nbconvert_exporter": "python",
   "pygments_lexer": "ipython3",
   "version": "3.12.1"
  }
 },
 "nbformat": 4,
 "nbformat_minor": 2
}
